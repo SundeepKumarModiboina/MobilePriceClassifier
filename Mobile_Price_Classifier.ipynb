{
 "cells": [
  {
   "cell_type": "markdown",
   "metadata": {},
   "source": [
    "### 1. Import the required libararies"
   ]
  },
  {
   "cell_type": "code",
   "execution_count": 131,
   "metadata": {},
   "outputs": [],
   "source": [
    "import pandas as pd\n",
    "import numpy as np\n",
    "import matplotlib.pyplot as plt\n",
    "%matplotlib inline\n",
    "import seaborn as sns\n",
    "import warnings\n",
    "warnings.filterwarnings(\"ignore\")"
   ]
  },
  {
   "cell_type": "code",
   "execution_count": 25,
   "metadata": {},
   "outputs": [],
   "source": [
    "# Configure the Display Settings\n",
    "\n",
    "pd.set_option('display.max_rows', 100)\n",
    "pd.set_option('display.max_columns', 100)\n",
    "pd.set_option('display.width', 1000)"
   ]
  },
  {
   "cell_type": "markdown",
   "metadata": {},
   "source": [
    "### 2. Read the data"
   ]
  },
  {
   "cell_type": "code",
   "execution_count": 26,
   "metadata": {},
   "outputs": [
    {
     "name": "stdout",
     "output_type": "stream",
     "text": [
      "The shape of the data is :  (2000, 21)\n"
     ]
    },
    {
     "data": {
      "text/html": [
       "<div>\n",
       "<style scoped>\n",
       "    .dataframe tbody tr th:only-of-type {\n",
       "        vertical-align: middle;\n",
       "    }\n",
       "\n",
       "    .dataframe tbody tr th {\n",
       "        vertical-align: top;\n",
       "    }\n",
       "\n",
       "    .dataframe thead th {\n",
       "        text-align: right;\n",
       "    }\n",
       "</style>\n",
       "<table border=\"1\" class=\"dataframe\">\n",
       "  <thead>\n",
       "    <tr style=\"text-align: right;\">\n",
       "      <th></th>\n",
       "      <th>battery_power</th>\n",
       "      <th>blue</th>\n",
       "      <th>clock_speed</th>\n",
       "      <th>dual_sim</th>\n",
       "      <th>fc</th>\n",
       "      <th>four_g</th>\n",
       "      <th>int_memory</th>\n",
       "      <th>m_dep</th>\n",
       "      <th>mobile_wt</th>\n",
       "      <th>n_cores</th>\n",
       "      <th>pc</th>\n",
       "      <th>px_height</th>\n",
       "      <th>px_width</th>\n",
       "      <th>ram</th>\n",
       "      <th>sc_h</th>\n",
       "      <th>sc_w</th>\n",
       "      <th>talk_time</th>\n",
       "      <th>three_g</th>\n",
       "      <th>touch_screen</th>\n",
       "      <th>wifi</th>\n",
       "      <th>price_range</th>\n",
       "    </tr>\n",
       "  </thead>\n",
       "  <tbody>\n",
       "    <tr>\n",
       "      <th>0</th>\n",
       "      <td>842</td>\n",
       "      <td>0</td>\n",
       "      <td>2.2</td>\n",
       "      <td>0</td>\n",
       "      <td>1</td>\n",
       "      <td>0</td>\n",
       "      <td>7</td>\n",
       "      <td>0.6</td>\n",
       "      <td>188</td>\n",
       "      <td>2</td>\n",
       "      <td>2</td>\n",
       "      <td>20</td>\n",
       "      <td>756</td>\n",
       "      <td>2549</td>\n",
       "      <td>9</td>\n",
       "      <td>7</td>\n",
       "      <td>19</td>\n",
       "      <td>0</td>\n",
       "      <td>0</td>\n",
       "      <td>1</td>\n",
       "      <td>1</td>\n",
       "    </tr>\n",
       "    <tr>\n",
       "      <th>1</th>\n",
       "      <td>1021</td>\n",
       "      <td>1</td>\n",
       "      <td>0.5</td>\n",
       "      <td>1</td>\n",
       "      <td>0</td>\n",
       "      <td>1</td>\n",
       "      <td>53</td>\n",
       "      <td>0.7</td>\n",
       "      <td>136</td>\n",
       "      <td>3</td>\n",
       "      <td>6</td>\n",
       "      <td>905</td>\n",
       "      <td>1988</td>\n",
       "      <td>2631</td>\n",
       "      <td>17</td>\n",
       "      <td>3</td>\n",
       "      <td>7</td>\n",
       "      <td>1</td>\n",
       "      <td>1</td>\n",
       "      <td>0</td>\n",
       "      <td>2</td>\n",
       "    </tr>\n",
       "    <tr>\n",
       "      <th>2</th>\n",
       "      <td>563</td>\n",
       "      <td>1</td>\n",
       "      <td>0.5</td>\n",
       "      <td>1</td>\n",
       "      <td>2</td>\n",
       "      <td>1</td>\n",
       "      <td>41</td>\n",
       "      <td>0.9</td>\n",
       "      <td>145</td>\n",
       "      <td>5</td>\n",
       "      <td>6</td>\n",
       "      <td>1263</td>\n",
       "      <td>1716</td>\n",
       "      <td>2603</td>\n",
       "      <td>11</td>\n",
       "      <td>2</td>\n",
       "      <td>9</td>\n",
       "      <td>1</td>\n",
       "      <td>1</td>\n",
       "      <td>0</td>\n",
       "      <td>2</td>\n",
       "    </tr>\n",
       "    <tr>\n",
       "      <th>3</th>\n",
       "      <td>615</td>\n",
       "      <td>1</td>\n",
       "      <td>2.5</td>\n",
       "      <td>0</td>\n",
       "      <td>0</td>\n",
       "      <td>0</td>\n",
       "      <td>10</td>\n",
       "      <td>0.8</td>\n",
       "      <td>131</td>\n",
       "      <td>6</td>\n",
       "      <td>9</td>\n",
       "      <td>1216</td>\n",
       "      <td>1786</td>\n",
       "      <td>2769</td>\n",
       "      <td>16</td>\n",
       "      <td>8</td>\n",
       "      <td>11</td>\n",
       "      <td>1</td>\n",
       "      <td>0</td>\n",
       "      <td>0</td>\n",
       "      <td>2</td>\n",
       "    </tr>\n",
       "    <tr>\n",
       "      <th>4</th>\n",
       "      <td>1821</td>\n",
       "      <td>1</td>\n",
       "      <td>1.2</td>\n",
       "      <td>0</td>\n",
       "      <td>13</td>\n",
       "      <td>1</td>\n",
       "      <td>44</td>\n",
       "      <td>0.6</td>\n",
       "      <td>141</td>\n",
       "      <td>2</td>\n",
       "      <td>14</td>\n",
       "      <td>1208</td>\n",
       "      <td>1212</td>\n",
       "      <td>1411</td>\n",
       "      <td>8</td>\n",
       "      <td>2</td>\n",
       "      <td>15</td>\n",
       "      <td>1</td>\n",
       "      <td>1</td>\n",
       "      <td>0</td>\n",
       "      <td>1</td>\n",
       "    </tr>\n",
       "  </tbody>\n",
       "</table>\n",
       "</div>"
      ],
      "text/plain": [
       "   battery_power  blue  clock_speed  dual_sim  fc  four_g  int_memory  m_dep  mobile_wt  n_cores  pc  px_height  px_width   ram  sc_h  sc_w  talk_time  three_g  touch_screen  wifi  price_range\n",
       "0            842     0          2.2         0   1       0           7    0.6        188        2   2         20       756  2549     9     7         19        0             0     1            1\n",
       "1           1021     1          0.5         1   0       1          53    0.7        136        3   6        905      1988  2631    17     3          7        1             1     0            2\n",
       "2            563     1          0.5         1   2       1          41    0.9        145        5   6       1263      1716  2603    11     2          9        1             1     0            2\n",
       "3            615     1          2.5         0   0       0          10    0.8        131        6   9       1216      1786  2769    16     8         11        1             0     0            2\n",
       "4           1821     1          1.2         0  13       1          44    0.6        141        2  14       1208      1212  1411     8     2         15        1             1     0            1"
      ]
     },
     "execution_count": 26,
     "metadata": {},
     "output_type": "execute_result"
    }
   ],
   "source": [
    "train_data = pd.read_csv(\"mobile_price_classifier_data.csv\")\n",
    "print(\"The shape of the data is : \", train_data.shape)\n",
    "train_data.head()"
   ]
  },
  {
   "cell_type": "code",
   "execution_count": 27,
   "metadata": {},
   "outputs": [
    {
     "name": "stdout",
     "output_type": "stream",
     "text": [
      "The data types of the features is :  battery_power      int64\n",
      "blue               int64\n",
      "clock_speed      float64\n",
      "dual_sim           int64\n",
      "fc                 int64\n",
      "four_g             int64\n",
      "int_memory         int64\n",
      "m_dep            float64\n",
      "mobile_wt          int64\n",
      "n_cores            int64\n",
      "pc                 int64\n",
      "px_height          int64\n",
      "px_width           int64\n",
      "ram                int64\n",
      "sc_h               int64\n",
      "sc_w               int64\n",
      "talk_time          int64\n",
      "three_g            int64\n",
      "touch_screen       int64\n",
      "wifi               int64\n",
      "price_range        int64\n",
      "dtype: object\n"
     ]
    }
   ],
   "source": [
    "# Checking the Data Type of the features\n",
    "\n",
    "print(\"The data types of the features is : \", train_data.dtypes)"
   ]
  },
  {
   "cell_type": "code",
   "execution_count": 28,
   "metadata": {},
   "outputs": [
    {
     "data": {
      "text/plain": [
       "battery_power    0\n",
       "blue             0\n",
       "clock_speed      0\n",
       "dual_sim         0\n",
       "fc               0\n",
       "four_g           0\n",
       "int_memory       0\n",
       "m_dep            0\n",
       "mobile_wt        0\n",
       "n_cores          0\n",
       "pc               0\n",
       "px_height        0\n",
       "px_width         0\n",
       "ram              0\n",
       "sc_h             0\n",
       "sc_w             0\n",
       "talk_time        0\n",
       "three_g          0\n",
       "touch_screen     0\n",
       "wifi             0\n",
       "price_range      0\n",
       "dtype: int64"
      ]
     },
     "execution_count": 28,
     "metadata": {},
     "output_type": "execute_result"
    }
   ],
   "source": [
    "# Looking for any nulls\n",
    "\n",
    "train_data.isnull().sum()"
   ]
  },
  {
   "cell_type": "code",
   "execution_count": 123,
   "metadata": {},
   "outputs": [],
   "source": [
    "data = train_data.copy()"
   ]
  },
  {
   "cell_type": "markdown",
   "metadata": {},
   "source": [
    "### 3. Scaling and Normalizing  the Data"
   ]
  },
  {
   "cell_type": "code",
   "execution_count": 122,
   "metadata": {},
   "outputs": [],
   "source": [
    "from sklearn.preprocessing import normalize\n",
    "from sklearn.preprocessing import scale"
   ]
  },
  {
   "cell_type": "code",
   "execution_count": 126,
   "metadata": {},
   "outputs": [
    {
     "data": {
      "text/html": [
       "<div>\n",
       "<style scoped>\n",
       "    .dataframe tbody tr th:only-of-type {\n",
       "        vertical-align: middle;\n",
       "    }\n",
       "\n",
       "    .dataframe tbody tr th {\n",
       "        vertical-align: top;\n",
       "    }\n",
       "\n",
       "    .dataframe thead th {\n",
       "        text-align: right;\n",
       "    }\n",
       "</style>\n",
       "<table border=\"1\" class=\"dataframe\">\n",
       "  <thead>\n",
       "    <tr style=\"text-align: right;\">\n",
       "      <th></th>\n",
       "      <th>battery_power</th>\n",
       "      <th>blue</th>\n",
       "      <th>clock_speed</th>\n",
       "      <th>dual_sim</th>\n",
       "      <th>fc</th>\n",
       "      <th>four_g</th>\n",
       "      <th>int_memory</th>\n",
       "      <th>m_dep</th>\n",
       "      <th>mobile_wt</th>\n",
       "      <th>n_cores</th>\n",
       "      <th>pc</th>\n",
       "      <th>px_height</th>\n",
       "      <th>px_width</th>\n",
       "      <th>ram</th>\n",
       "      <th>sc_h</th>\n",
       "      <th>sc_w</th>\n",
       "      <th>talk_time</th>\n",
       "      <th>three_g</th>\n",
       "      <th>touch_screen</th>\n",
       "      <th>wifi</th>\n",
       "    </tr>\n",
       "  </thead>\n",
       "  <tbody>\n",
       "    <tr>\n",
       "      <th>0</th>\n",
       "      <td>842</td>\n",
       "      <td>0</td>\n",
       "      <td>2.2</td>\n",
       "      <td>0</td>\n",
       "      <td>1</td>\n",
       "      <td>0</td>\n",
       "      <td>7</td>\n",
       "      <td>0.6</td>\n",
       "      <td>188</td>\n",
       "      <td>2</td>\n",
       "      <td>2</td>\n",
       "      <td>20</td>\n",
       "      <td>756</td>\n",
       "      <td>2549</td>\n",
       "      <td>9</td>\n",
       "      <td>7</td>\n",
       "      <td>19</td>\n",
       "      <td>0</td>\n",
       "      <td>0</td>\n",
       "      <td>1</td>\n",
       "    </tr>\n",
       "    <tr>\n",
       "      <th>1</th>\n",
       "      <td>1021</td>\n",
       "      <td>1</td>\n",
       "      <td>0.5</td>\n",
       "      <td>1</td>\n",
       "      <td>0</td>\n",
       "      <td>1</td>\n",
       "      <td>53</td>\n",
       "      <td>0.7</td>\n",
       "      <td>136</td>\n",
       "      <td>3</td>\n",
       "      <td>6</td>\n",
       "      <td>905</td>\n",
       "      <td>1988</td>\n",
       "      <td>2631</td>\n",
       "      <td>17</td>\n",
       "      <td>3</td>\n",
       "      <td>7</td>\n",
       "      <td>1</td>\n",
       "      <td>1</td>\n",
       "      <td>0</td>\n",
       "    </tr>\n",
       "    <tr>\n",
       "      <th>2</th>\n",
       "      <td>563</td>\n",
       "      <td>1</td>\n",
       "      <td>0.5</td>\n",
       "      <td>1</td>\n",
       "      <td>2</td>\n",
       "      <td>1</td>\n",
       "      <td>41</td>\n",
       "      <td>0.9</td>\n",
       "      <td>145</td>\n",
       "      <td>5</td>\n",
       "      <td>6</td>\n",
       "      <td>1263</td>\n",
       "      <td>1716</td>\n",
       "      <td>2603</td>\n",
       "      <td>11</td>\n",
       "      <td>2</td>\n",
       "      <td>9</td>\n",
       "      <td>1</td>\n",
       "      <td>1</td>\n",
       "      <td>0</td>\n",
       "    </tr>\n",
       "    <tr>\n",
       "      <th>3</th>\n",
       "      <td>615</td>\n",
       "      <td>1</td>\n",
       "      <td>2.5</td>\n",
       "      <td>0</td>\n",
       "      <td>0</td>\n",
       "      <td>0</td>\n",
       "      <td>10</td>\n",
       "      <td>0.8</td>\n",
       "      <td>131</td>\n",
       "      <td>6</td>\n",
       "      <td>9</td>\n",
       "      <td>1216</td>\n",
       "      <td>1786</td>\n",
       "      <td>2769</td>\n",
       "      <td>16</td>\n",
       "      <td>8</td>\n",
       "      <td>11</td>\n",
       "      <td>1</td>\n",
       "      <td>0</td>\n",
       "      <td>0</td>\n",
       "    </tr>\n",
       "    <tr>\n",
       "      <th>4</th>\n",
       "      <td>1821</td>\n",
       "      <td>1</td>\n",
       "      <td>1.2</td>\n",
       "      <td>0</td>\n",
       "      <td>13</td>\n",
       "      <td>1</td>\n",
       "      <td>44</td>\n",
       "      <td>0.6</td>\n",
       "      <td>141</td>\n",
       "      <td>2</td>\n",
       "      <td>14</td>\n",
       "      <td>1208</td>\n",
       "      <td>1212</td>\n",
       "      <td>1411</td>\n",
       "      <td>8</td>\n",
       "      <td>2</td>\n",
       "      <td>15</td>\n",
       "      <td>1</td>\n",
       "      <td>1</td>\n",
       "      <td>0</td>\n",
       "    </tr>\n",
       "  </tbody>\n",
       "</table>\n",
       "</div>"
      ],
      "text/plain": [
       "   battery_power  blue  clock_speed  dual_sim  fc  four_g  int_memory  m_dep  mobile_wt  n_cores  pc  px_height  px_width   ram  sc_h  sc_w  talk_time  three_g  touch_screen  wifi\n",
       "0            842     0          2.2         0   1       0           7    0.6        188        2   2         20       756  2549     9     7         19        0             0     1\n",
       "1           1021     1          0.5         1   0       1          53    0.7        136        3   6        905      1988  2631    17     3          7        1             1     0\n",
       "2            563     1          0.5         1   2       1          41    0.9        145        5   6       1263      1716  2603    11     2          9        1             1     0\n",
       "3            615     1          2.5         0   0       0          10    0.8        131        6   9       1216      1786  2769    16     8         11        1             0     0\n",
       "4           1821     1          1.2         0  13       1          44    0.6        141        2  14       1208      1212  1411     8     2         15        1             1     0"
      ]
     },
     "execution_count": 126,
     "metadata": {},
     "output_type": "execute_result"
    }
   ],
   "source": [
    "x = data.drop(\"price_range\", axis = 1)\n",
    "y = data[\"price_range\"]\n",
    "cols = x.columns\n",
    "x.head()"
   ]
  },
  {
   "cell_type": "code",
   "execution_count": 132,
   "metadata": {},
   "outputs": [
    {
     "data": {
      "text/html": [
       "<div>\n",
       "<style scoped>\n",
       "    .dataframe tbody tr th:only-of-type {\n",
       "        vertical-align: middle;\n",
       "    }\n",
       "\n",
       "    .dataframe tbody tr th {\n",
       "        vertical-align: top;\n",
       "    }\n",
       "\n",
       "    .dataframe thead th {\n",
       "        text-align: right;\n",
       "    }\n",
       "</style>\n",
       "<table border=\"1\" class=\"dataframe\">\n",
       "  <thead>\n",
       "    <tr style=\"text-align: right;\">\n",
       "      <th></th>\n",
       "      <th>battery_power</th>\n",
       "      <th>blue</th>\n",
       "      <th>clock_speed</th>\n",
       "      <th>dual_sim</th>\n",
       "      <th>fc</th>\n",
       "      <th>four_g</th>\n",
       "      <th>int_memory</th>\n",
       "      <th>m_dep</th>\n",
       "      <th>mobile_wt</th>\n",
       "      <th>n_cores</th>\n",
       "      <th>pc</th>\n",
       "      <th>px_height</th>\n",
       "      <th>px_width</th>\n",
       "      <th>ram</th>\n",
       "      <th>sc_h</th>\n",
       "      <th>sc_w</th>\n",
       "      <th>talk_time</th>\n",
       "      <th>three_g</th>\n",
       "      <th>touch_screen</th>\n",
       "      <th>wifi</th>\n",
       "    </tr>\n",
       "  </thead>\n",
       "  <tbody>\n",
       "    <tr>\n",
       "      <th>0</th>\n",
       "      <td>-0.902597</td>\n",
       "      <td>-0.990050</td>\n",
       "      <td>0.830779</td>\n",
       "      <td>-1.019184</td>\n",
       "      <td>-0.762495</td>\n",
       "      <td>-1.043966</td>\n",
       "      <td>-1.380644</td>\n",
       "      <td>0.340740</td>\n",
       "      <td>1.349249</td>\n",
       "      <td>-1.101971</td>\n",
       "      <td>-1.305750</td>\n",
       "      <td>-1.408949</td>\n",
       "      <td>-1.146784</td>\n",
       "      <td>0.391703</td>\n",
       "      <td>-0.784983</td>\n",
       "      <td>0.283103</td>\n",
       "      <td>1.462493</td>\n",
       "      <td>-1.786861</td>\n",
       "      <td>-1.006018</td>\n",
       "      <td>0.986097</td>\n",
       "    </tr>\n",
       "    <tr>\n",
       "      <th>1</th>\n",
       "      <td>-0.495139</td>\n",
       "      <td>1.010051</td>\n",
       "      <td>-1.253064</td>\n",
       "      <td>0.981177</td>\n",
       "      <td>-0.992890</td>\n",
       "      <td>0.957886</td>\n",
       "      <td>1.155024</td>\n",
       "      <td>0.687548</td>\n",
       "      <td>-0.120059</td>\n",
       "      <td>-0.664768</td>\n",
       "      <td>-0.645989</td>\n",
       "      <td>0.585778</td>\n",
       "      <td>1.704465</td>\n",
       "      <td>0.467317</td>\n",
       "      <td>1.114266</td>\n",
       "      <td>-0.635317</td>\n",
       "      <td>-0.734267</td>\n",
       "      <td>0.559641</td>\n",
       "      <td>0.994018</td>\n",
       "      <td>-1.014099</td>\n",
       "    </tr>\n",
       "    <tr>\n",
       "      <th>2</th>\n",
       "      <td>-1.537686</td>\n",
       "      <td>1.010051</td>\n",
       "      <td>-1.253064</td>\n",
       "      <td>0.981177</td>\n",
       "      <td>-0.532099</td>\n",
       "      <td>0.957886</td>\n",
       "      <td>0.493546</td>\n",
       "      <td>1.381165</td>\n",
       "      <td>0.134244</td>\n",
       "      <td>0.209639</td>\n",
       "      <td>-0.645989</td>\n",
       "      <td>1.392684</td>\n",
       "      <td>1.074968</td>\n",
       "      <td>0.441498</td>\n",
       "      <td>-0.310171</td>\n",
       "      <td>-0.864922</td>\n",
       "      <td>-0.368140</td>\n",
       "      <td>0.559641</td>\n",
       "      <td>0.994018</td>\n",
       "      <td>-1.014099</td>\n",
       "    </tr>\n",
       "    <tr>\n",
       "      <th>3</th>\n",
       "      <td>-1.419319</td>\n",
       "      <td>1.010051</td>\n",
       "      <td>1.198517</td>\n",
       "      <td>-1.019184</td>\n",
       "      <td>-0.992890</td>\n",
       "      <td>-1.043966</td>\n",
       "      <td>-1.215274</td>\n",
       "      <td>1.034357</td>\n",
       "      <td>-0.261339</td>\n",
       "      <td>0.646842</td>\n",
       "      <td>-0.151168</td>\n",
       "      <td>1.286750</td>\n",
       "      <td>1.236971</td>\n",
       "      <td>0.594569</td>\n",
       "      <td>0.876859</td>\n",
       "      <td>0.512708</td>\n",
       "      <td>-0.002014</td>\n",
       "      <td>0.559641</td>\n",
       "      <td>-1.006018</td>\n",
       "      <td>-1.014099</td>\n",
       "    </tr>\n",
       "    <tr>\n",
       "      <th>4</th>\n",
       "      <td>1.325906</td>\n",
       "      <td>1.010051</td>\n",
       "      <td>-0.395011</td>\n",
       "      <td>-1.019184</td>\n",
       "      <td>2.002254</td>\n",
       "      <td>0.957886</td>\n",
       "      <td>0.658915</td>\n",
       "      <td>0.340740</td>\n",
       "      <td>0.021220</td>\n",
       "      <td>-1.101971</td>\n",
       "      <td>0.673534</td>\n",
       "      <td>1.268718</td>\n",
       "      <td>-0.091452</td>\n",
       "      <td>-0.657666</td>\n",
       "      <td>-1.022389</td>\n",
       "      <td>-0.864922</td>\n",
       "      <td>0.730240</td>\n",
       "      <td>0.559641</td>\n",
       "      <td>0.994018</td>\n",
       "      <td>-1.014099</td>\n",
       "    </tr>\n",
       "  </tbody>\n",
       "</table>\n",
       "</div>"
      ],
      "text/plain": [
       "   battery_power      blue  clock_speed  dual_sim        fc    four_g  int_memory     m_dep  mobile_wt   n_cores        pc  px_height  px_width       ram      sc_h      sc_w  talk_time   three_g  touch_screen      wifi\n",
       "0      -0.902597 -0.990050     0.830779 -1.019184 -0.762495 -1.043966   -1.380644  0.340740   1.349249 -1.101971 -1.305750  -1.408949 -1.146784  0.391703 -0.784983  0.283103   1.462493 -1.786861     -1.006018  0.986097\n",
       "1      -0.495139  1.010051    -1.253064  0.981177 -0.992890  0.957886    1.155024  0.687548  -0.120059 -0.664768 -0.645989   0.585778  1.704465  0.467317  1.114266 -0.635317  -0.734267  0.559641      0.994018 -1.014099\n",
       "2      -1.537686  1.010051    -1.253064  0.981177 -0.532099  0.957886    0.493546  1.381165   0.134244  0.209639 -0.645989   1.392684  1.074968  0.441498 -0.310171 -0.864922  -0.368140  0.559641      0.994018 -1.014099\n",
       "3      -1.419319  1.010051     1.198517 -1.019184 -0.992890 -1.043966   -1.215274  1.034357  -0.261339  0.646842 -0.151168   1.286750  1.236971  0.594569  0.876859  0.512708  -0.002014  0.559641     -1.006018 -1.014099\n",
       "4       1.325906  1.010051    -0.395011 -1.019184  2.002254  0.957886    0.658915  0.340740   0.021220 -1.101971  0.673534   1.268718 -0.091452 -0.657666 -1.022389 -0.864922   0.730240  0.559641      0.994018 -1.014099"
      ]
     },
     "execution_count": 132,
     "metadata": {},
     "output_type": "execute_result"
    }
   ],
   "source": [
    "x_scale = pd.DataFrame(scale(x))\n",
    "x_scale.columns = cols\n",
    "x_scale.head()"
   ]
  },
  {
   "cell_type": "code",
   "execution_count": 133,
   "metadata": {
    "scrolled": true
   },
   "outputs": [
    {
     "data": {
      "text/html": [
       "<div>\n",
       "<style scoped>\n",
       "    .dataframe tbody tr th:only-of-type {\n",
       "        vertical-align: middle;\n",
       "    }\n",
       "\n",
       "    .dataframe tbody tr th {\n",
       "        vertical-align: top;\n",
       "    }\n",
       "\n",
       "    .dataframe thead th {\n",
       "        text-align: right;\n",
       "    }\n",
       "</style>\n",
       "<table border=\"1\" class=\"dataframe\">\n",
       "  <thead>\n",
       "    <tr style=\"text-align: right;\">\n",
       "      <th></th>\n",
       "      <th>battery_power</th>\n",
       "      <th>blue</th>\n",
       "      <th>clock_speed</th>\n",
       "      <th>dual_sim</th>\n",
       "      <th>fc</th>\n",
       "      <th>four_g</th>\n",
       "      <th>int_memory</th>\n",
       "      <th>m_dep</th>\n",
       "      <th>mobile_wt</th>\n",
       "      <th>n_cores</th>\n",
       "      <th>pc</th>\n",
       "      <th>px_height</th>\n",
       "      <th>px_width</th>\n",
       "      <th>ram</th>\n",
       "      <th>sc_h</th>\n",
       "      <th>sc_w</th>\n",
       "      <th>talk_time</th>\n",
       "      <th>three_g</th>\n",
       "      <th>touch_screen</th>\n",
       "      <th>wifi</th>\n",
       "    </tr>\n",
       "  </thead>\n",
       "  <tbody>\n",
       "    <tr>\n",
       "      <th>0</th>\n",
       "      <td>-0.186496</td>\n",
       "      <td>-0.204565</td>\n",
       "      <td>0.171657</td>\n",
       "      <td>-0.210585</td>\n",
       "      <td>-0.157548</td>\n",
       "      <td>-0.215706</td>\n",
       "      <td>-0.285270</td>\n",
       "      <td>0.070404</td>\n",
       "      <td>0.278784</td>\n",
       "      <td>-0.227691</td>\n",
       "      <td>-0.269796</td>\n",
       "      <td>-0.291119</td>\n",
       "      <td>-0.236950</td>\n",
       "      <td>0.080934</td>\n",
       "      <td>-0.162194</td>\n",
       "      <td>0.058495</td>\n",
       "      <td>0.302182</td>\n",
       "      <td>-0.369204</td>\n",
       "      <td>-0.207865</td>\n",
       "      <td>0.203749</td>\n",
       "    </tr>\n",
       "    <tr>\n",
       "      <th>1</th>\n",
       "      <td>-0.122405</td>\n",
       "      <td>0.249698</td>\n",
       "      <td>-0.309774</td>\n",
       "      <td>0.242560</td>\n",
       "      <td>-0.245455</td>\n",
       "      <td>0.236802</td>\n",
       "      <td>0.285537</td>\n",
       "      <td>0.169971</td>\n",
       "      <td>-0.029680</td>\n",
       "      <td>-0.164339</td>\n",
       "      <td>-0.159697</td>\n",
       "      <td>0.144812</td>\n",
       "      <td>0.421366</td>\n",
       "      <td>0.115527</td>\n",
       "      <td>0.275461</td>\n",
       "      <td>-0.157058</td>\n",
       "      <td>-0.181520</td>\n",
       "      <td>0.138350</td>\n",
       "      <td>0.245734</td>\n",
       "      <td>-0.250698</td>\n",
       "    </tr>\n",
       "    <tr>\n",
       "      <th>2</th>\n",
       "      <td>-0.380305</td>\n",
       "      <td>0.249809</td>\n",
       "      <td>-0.309912</td>\n",
       "      <td>0.242668</td>\n",
       "      <td>-0.131600</td>\n",
       "      <td>0.236907</td>\n",
       "      <td>0.122065</td>\n",
       "      <td>0.341594</td>\n",
       "      <td>0.033202</td>\n",
       "      <td>0.051849</td>\n",
       "      <td>-0.159768</td>\n",
       "      <td>0.344443</td>\n",
       "      <td>0.265864</td>\n",
       "      <td>0.109193</td>\n",
       "      <td>-0.076712</td>\n",
       "      <td>-0.213915</td>\n",
       "      <td>-0.091050</td>\n",
       "      <td>0.138412</td>\n",
       "      <td>0.245843</td>\n",
       "      <td>-0.250810</td>\n",
       "    </tr>\n",
       "    <tr>\n",
       "      <th>3</th>\n",
       "      <td>-0.338638</td>\n",
       "      <td>0.240990</td>\n",
       "      <td>0.285956</td>\n",
       "      <td>-0.243169</td>\n",
       "      <td>-0.236896</td>\n",
       "      <td>-0.249082</td>\n",
       "      <td>-0.289954</td>\n",
       "      <td>0.246789</td>\n",
       "      <td>-0.062353</td>\n",
       "      <td>0.154331</td>\n",
       "      <td>-0.036067</td>\n",
       "      <td>0.307008</td>\n",
       "      <td>0.295131</td>\n",
       "      <td>0.141859</td>\n",
       "      <td>0.209212</td>\n",
       "      <td>0.122328</td>\n",
       "      <td>-0.000480</td>\n",
       "      <td>0.133526</td>\n",
       "      <td>-0.240028</td>\n",
       "      <td>-0.241956</td>\n",
       "    </tr>\n",
       "    <tr>\n",
       "      <th>4</th>\n",
       "      <td>0.314049</td>\n",
       "      <td>0.239236</td>\n",
       "      <td>-0.093561</td>\n",
       "      <td>-0.241400</td>\n",
       "      <td>0.474246</td>\n",
       "      <td>0.226881</td>\n",
       "      <td>0.156068</td>\n",
       "      <td>0.080706</td>\n",
       "      <td>0.005026</td>\n",
       "      <td>-0.261008</td>\n",
       "      <td>0.159530</td>\n",
       "      <td>0.300503</td>\n",
       "      <td>-0.021661</td>\n",
       "      <td>-0.155772</td>\n",
       "      <td>-0.242159</td>\n",
       "      <td>-0.204862</td>\n",
       "      <td>0.172962</td>\n",
       "      <td>0.132554</td>\n",
       "      <td>0.235439</td>\n",
       "      <td>-0.240195</td>\n",
       "    </tr>\n",
       "  </tbody>\n",
       "</table>\n",
       "</div>"
      ],
      "text/plain": [
       "   battery_power      blue  clock_speed  dual_sim        fc    four_g  int_memory     m_dep  mobile_wt   n_cores        pc  px_height  px_width       ram      sc_h      sc_w  talk_time   three_g  touch_screen      wifi\n",
       "0      -0.186496 -0.204565     0.171657 -0.210585 -0.157548 -0.215706   -0.285270  0.070404   0.278784 -0.227691 -0.269796  -0.291119 -0.236950  0.080934 -0.162194  0.058495   0.302182 -0.369204     -0.207865  0.203749\n",
       "1      -0.122405  0.249698    -0.309774  0.242560 -0.245455  0.236802    0.285537  0.169971  -0.029680 -0.164339 -0.159697   0.144812  0.421366  0.115527  0.275461 -0.157058  -0.181520  0.138350      0.245734 -0.250698\n",
       "2      -0.380305  0.249809    -0.309912  0.242668 -0.131600  0.236907    0.122065  0.341594   0.033202  0.051849 -0.159768   0.344443  0.265864  0.109193 -0.076712 -0.213915  -0.091050  0.138412      0.245843 -0.250810\n",
       "3      -0.338638  0.240990     0.285956 -0.243169 -0.236896 -0.249082   -0.289954  0.246789  -0.062353  0.154331 -0.036067   0.307008  0.295131  0.141859  0.209212  0.122328  -0.000480  0.133526     -0.240028 -0.241956\n",
       "4       0.314049  0.239236    -0.093561 -0.241400  0.474246  0.226881    0.156068  0.080706   0.005026 -0.261008  0.159530   0.300503 -0.021661 -0.155772 -0.242159 -0.204862   0.172962  0.132554      0.235439 -0.240195"
      ]
     },
     "execution_count": 133,
     "metadata": {},
     "output_type": "execute_result"
    }
   ],
   "source": [
    "x_norm = pd.DataFrame(normalize(x_scale))\n",
    "x_norm.columns = cols\n",
    "x_norm.head()"
   ]
  },
  {
   "cell_type": "code",
   "execution_count": 172,
   "metadata": {},
   "outputs": [
    {
     "name": "stdout",
     "output_type": "stream",
     "text": [
      "[1, 2, 3, 0]\n"
     ]
    }
   ],
   "source": [
    "print(y.unique().tolist())"
   ]
  },
  {
   "cell_type": "markdown",
   "metadata": {},
   "source": [
    "### 4. Selecting the top 10 features for modelling"
   ]
  },
  {
   "cell_type": "code",
   "execution_count": 136,
   "metadata": {},
   "outputs": [],
   "source": [
    "from sklearn.ensemble import ExtraTreesClassifier"
   ]
  },
  {
   "cell_type": "code",
   "execution_count": 137,
   "metadata": {},
   "outputs": [
    {
     "data": {
      "text/plain": [
       "ExtraTreesClassifier(bootstrap=False, class_weight=None, criterion='gini',\n",
       "           max_depth=None, max_features='auto', max_leaf_nodes=None,\n",
       "           min_impurity_decrease=0.0, min_impurity_split=None,\n",
       "           min_samples_leaf=1, min_samples_split=2,\n",
       "           min_weight_fraction_leaf=0.0, n_estimators='warn', n_jobs=None,\n",
       "           oob_score=False, random_state=None, verbose=0, warm_start=False)"
      ]
     },
     "execution_count": 137,
     "metadata": {},
     "output_type": "execute_result"
    }
   ],
   "source": [
    "model = ExtraTreesClassifier()\n",
    "model"
   ]
  },
  {
   "cell_type": "code",
   "execution_count": 138,
   "metadata": {},
   "outputs": [
    {
     "name": "stdout",
     "output_type": "stream",
     "text": [
      "[0.06224476 0.02767387 0.02950197 0.02665871 0.02608447 0.03039953\n",
      " 0.02727098 0.03040862 0.03074275 0.02735503 0.02918982 0.04388287\n",
      " 0.04160657 0.39835686 0.02754208 0.02619907 0.02783836 0.03125136\n",
      " 0.02724199 0.02855031]\n"
     ]
    }
   ],
   "source": [
    "model.fit( x_norm, y)\n",
    "print ( model.feature_importances_)"
   ]
  },
  {
   "cell_type": "code",
   "execution_count": 139,
   "metadata": {},
   "outputs": [
    {
     "data": {
      "text/plain": [
       "ram              0.398357\n",
       "battery_power    0.062245\n",
       "px_height        0.043883\n",
       "px_width         0.041607\n",
       "three_g          0.031251\n",
       "mobile_wt        0.030743\n",
       "m_dep            0.030409\n",
       "four_g           0.030400\n",
       "clock_speed      0.029502\n",
       "pc               0.029190\n",
       "wifi             0.028550\n",
       "talk_time        0.027838\n",
       "blue             0.027674\n",
       "sc_h             0.027542\n",
       "n_cores          0.027355\n",
       "int_memory       0.027271\n",
       "touch_screen     0.027242\n",
       "dual_sim         0.026659\n",
       "sc_w             0.026199\n",
       "fc               0.026084\n",
       "dtype: float64"
      ]
     },
     "execution_count": 139,
     "metadata": {},
     "output_type": "execute_result"
    }
   ],
   "source": [
    "scores = pd.Series( model.feature_importances_ , index = x_norm.columns).sort_values ( ascending = False)\n",
    "scores"
   ]
  },
  {
   "cell_type": "code",
   "execution_count": 140,
   "metadata": {},
   "outputs": [
    {
     "data": {
      "text/plain": [
       "['ram',\n",
       " 'battery_power',\n",
       " 'px_height',\n",
       " 'px_width',\n",
       " 'three_g',\n",
       " 'mobile_wt',\n",
       " 'm_dep',\n",
       " 'four_g',\n",
       " 'clock_speed',\n",
       " 'pc',\n",
       " 'wifi',\n",
       " 'talk_time',\n",
       " 'blue',\n",
       " 'sc_h',\n",
       " 'n_cores',\n",
       " 'int_memory',\n",
       " 'touch_screen',\n",
       " 'dual_sim',\n",
       " 'sc_w',\n",
       " 'fc']"
      ]
     },
     "execution_count": 140,
     "metadata": {},
     "output_type": "execute_result"
    }
   ],
   "source": [
    "top_features = scores.index.tolist()\n",
    "top_features"
   ]
  },
  {
   "cell_type": "code",
   "execution_count": 141,
   "metadata": {},
   "outputs": [
    {
     "data": {
      "text/html": [
       "<div>\n",
       "<style scoped>\n",
       "    .dataframe tbody tr th:only-of-type {\n",
       "        vertical-align: middle;\n",
       "    }\n",
       "\n",
       "    .dataframe tbody tr th {\n",
       "        vertical-align: top;\n",
       "    }\n",
       "\n",
       "    .dataframe thead th {\n",
       "        text-align: right;\n",
       "    }\n",
       "</style>\n",
       "<table border=\"1\" class=\"dataframe\">\n",
       "  <thead>\n",
       "    <tr style=\"text-align: right;\">\n",
       "      <th></th>\n",
       "      <th>ram</th>\n",
       "      <th>battery_power</th>\n",
       "      <th>px_height</th>\n",
       "      <th>px_width</th>\n",
       "      <th>three_g</th>\n",
       "      <th>mobile_wt</th>\n",
       "      <th>m_dep</th>\n",
       "      <th>four_g</th>\n",
       "      <th>clock_speed</th>\n",
       "      <th>pc</th>\n",
       "      <th>wifi</th>\n",
       "      <th>talk_time</th>\n",
       "      <th>blue</th>\n",
       "      <th>sc_h</th>\n",
       "      <th>n_cores</th>\n",
       "      <th>int_memory</th>\n",
       "      <th>touch_screen</th>\n",
       "      <th>dual_sim</th>\n",
       "      <th>sc_w</th>\n",
       "      <th>fc</th>\n",
       "    </tr>\n",
       "  </thead>\n",
       "  <tbody>\n",
       "    <tr>\n",
       "      <th>0</th>\n",
       "      <td>0.080934</td>\n",
       "      <td>-0.186496</td>\n",
       "      <td>-0.291119</td>\n",
       "      <td>-0.236950</td>\n",
       "      <td>-0.369204</td>\n",
       "      <td>0.278784</td>\n",
       "      <td>0.070404</td>\n",
       "      <td>-0.215706</td>\n",
       "      <td>0.171657</td>\n",
       "      <td>-0.269796</td>\n",
       "      <td>0.203749</td>\n",
       "      <td>0.302182</td>\n",
       "      <td>-0.204565</td>\n",
       "      <td>-0.162194</td>\n",
       "      <td>-0.227691</td>\n",
       "      <td>-0.285270</td>\n",
       "      <td>-0.207865</td>\n",
       "      <td>-0.210585</td>\n",
       "      <td>0.058495</td>\n",
       "      <td>-0.157548</td>\n",
       "    </tr>\n",
       "    <tr>\n",
       "      <th>1</th>\n",
       "      <td>0.115527</td>\n",
       "      <td>-0.122405</td>\n",
       "      <td>0.144812</td>\n",
       "      <td>0.421366</td>\n",
       "      <td>0.138350</td>\n",
       "      <td>-0.029680</td>\n",
       "      <td>0.169971</td>\n",
       "      <td>0.236802</td>\n",
       "      <td>-0.309774</td>\n",
       "      <td>-0.159697</td>\n",
       "      <td>-0.250698</td>\n",
       "      <td>-0.181520</td>\n",
       "      <td>0.249698</td>\n",
       "      <td>0.275461</td>\n",
       "      <td>-0.164339</td>\n",
       "      <td>0.285537</td>\n",
       "      <td>0.245734</td>\n",
       "      <td>0.242560</td>\n",
       "      <td>-0.157058</td>\n",
       "      <td>-0.245455</td>\n",
       "    </tr>\n",
       "    <tr>\n",
       "      <th>2</th>\n",
       "      <td>0.109193</td>\n",
       "      <td>-0.380305</td>\n",
       "      <td>0.344443</td>\n",
       "      <td>0.265864</td>\n",
       "      <td>0.138412</td>\n",
       "      <td>0.033202</td>\n",
       "      <td>0.341594</td>\n",
       "      <td>0.236907</td>\n",
       "      <td>-0.309912</td>\n",
       "      <td>-0.159768</td>\n",
       "      <td>-0.250810</td>\n",
       "      <td>-0.091050</td>\n",
       "      <td>0.249809</td>\n",
       "      <td>-0.076712</td>\n",
       "      <td>0.051849</td>\n",
       "      <td>0.122065</td>\n",
       "      <td>0.245843</td>\n",
       "      <td>0.242668</td>\n",
       "      <td>-0.213915</td>\n",
       "      <td>-0.131600</td>\n",
       "    </tr>\n",
       "    <tr>\n",
       "      <th>3</th>\n",
       "      <td>0.141859</td>\n",
       "      <td>-0.338638</td>\n",
       "      <td>0.307008</td>\n",
       "      <td>0.295131</td>\n",
       "      <td>0.133526</td>\n",
       "      <td>-0.062353</td>\n",
       "      <td>0.246789</td>\n",
       "      <td>-0.249082</td>\n",
       "      <td>0.285956</td>\n",
       "      <td>-0.036067</td>\n",
       "      <td>-0.241956</td>\n",
       "      <td>-0.000480</td>\n",
       "      <td>0.240990</td>\n",
       "      <td>0.209212</td>\n",
       "      <td>0.154331</td>\n",
       "      <td>-0.289954</td>\n",
       "      <td>-0.240028</td>\n",
       "      <td>-0.243169</td>\n",
       "      <td>0.122328</td>\n",
       "      <td>-0.236896</td>\n",
       "    </tr>\n",
       "    <tr>\n",
       "      <th>4</th>\n",
       "      <td>-0.155772</td>\n",
       "      <td>0.314049</td>\n",
       "      <td>0.300503</td>\n",
       "      <td>-0.021661</td>\n",
       "      <td>0.132554</td>\n",
       "      <td>0.005026</td>\n",
       "      <td>0.080706</td>\n",
       "      <td>0.226881</td>\n",
       "      <td>-0.093561</td>\n",
       "      <td>0.159530</td>\n",
       "      <td>-0.240195</td>\n",
       "      <td>0.172962</td>\n",
       "      <td>0.239236</td>\n",
       "      <td>-0.242159</td>\n",
       "      <td>-0.261008</td>\n",
       "      <td>0.156068</td>\n",
       "      <td>0.235439</td>\n",
       "      <td>-0.241400</td>\n",
       "      <td>-0.204862</td>\n",
       "      <td>0.474246</td>\n",
       "    </tr>\n",
       "  </tbody>\n",
       "</table>\n",
       "</div>"
      ],
      "text/plain": [
       "        ram  battery_power  px_height  px_width   three_g  mobile_wt     m_dep    four_g  clock_speed        pc      wifi  talk_time      blue      sc_h   n_cores  int_memory  touch_screen  dual_sim      sc_w        fc\n",
       "0  0.080934      -0.186496  -0.291119 -0.236950 -0.369204   0.278784  0.070404 -0.215706     0.171657 -0.269796  0.203749   0.302182 -0.204565 -0.162194 -0.227691   -0.285270     -0.207865 -0.210585  0.058495 -0.157548\n",
       "1  0.115527      -0.122405   0.144812  0.421366  0.138350  -0.029680  0.169971  0.236802    -0.309774 -0.159697 -0.250698  -0.181520  0.249698  0.275461 -0.164339    0.285537      0.245734  0.242560 -0.157058 -0.245455\n",
       "2  0.109193      -0.380305   0.344443  0.265864  0.138412   0.033202  0.341594  0.236907    -0.309912 -0.159768 -0.250810  -0.091050  0.249809 -0.076712  0.051849    0.122065      0.245843  0.242668 -0.213915 -0.131600\n",
       "3  0.141859      -0.338638   0.307008  0.295131  0.133526  -0.062353  0.246789 -0.249082     0.285956 -0.036067 -0.241956  -0.000480  0.240990  0.209212  0.154331   -0.289954     -0.240028 -0.243169  0.122328 -0.236896\n",
       "4 -0.155772       0.314049   0.300503 -0.021661  0.132554   0.005026  0.080706  0.226881    -0.093561  0.159530 -0.240195   0.172962  0.239236 -0.242159 -0.261008    0.156068      0.235439 -0.241400 -0.204862  0.474246"
      ]
     },
     "execution_count": 141,
     "metadata": {},
     "output_type": "execute_result"
    }
   ],
   "source": [
    "x_sorted = x_norm[top_features]\n",
    "x_sorted.head()"
   ]
  },
  {
   "cell_type": "code",
   "execution_count": 142,
   "metadata": {},
   "outputs": [
    {
     "data": {
      "text/html": [
       "<div>\n",
       "<style scoped>\n",
       "    .dataframe tbody tr th:only-of-type {\n",
       "        vertical-align: middle;\n",
       "    }\n",
       "\n",
       "    .dataframe tbody tr th {\n",
       "        vertical-align: top;\n",
       "    }\n",
       "\n",
       "    .dataframe thead th {\n",
       "        text-align: right;\n",
       "    }\n",
       "</style>\n",
       "<table border=\"1\" class=\"dataframe\">\n",
       "  <thead>\n",
       "    <tr style=\"text-align: right;\">\n",
       "      <th></th>\n",
       "      <th>ram</th>\n",
       "      <th>battery_power</th>\n",
       "      <th>px_height</th>\n",
       "      <th>px_width</th>\n",
       "      <th>three_g</th>\n",
       "      <th>mobile_wt</th>\n",
       "      <th>m_dep</th>\n",
       "      <th>four_g</th>\n",
       "      <th>clock_speed</th>\n",
       "      <th>pc</th>\n",
       "    </tr>\n",
       "  </thead>\n",
       "  <tbody>\n",
       "    <tr>\n",
       "      <th>0</th>\n",
       "      <td>0.080934</td>\n",
       "      <td>-0.186496</td>\n",
       "      <td>-0.291119</td>\n",
       "      <td>-0.236950</td>\n",
       "      <td>-0.369204</td>\n",
       "      <td>0.278784</td>\n",
       "      <td>0.070404</td>\n",
       "      <td>-0.215706</td>\n",
       "      <td>0.171657</td>\n",
       "      <td>-0.269796</td>\n",
       "    </tr>\n",
       "    <tr>\n",
       "      <th>1</th>\n",
       "      <td>0.115527</td>\n",
       "      <td>-0.122405</td>\n",
       "      <td>0.144812</td>\n",
       "      <td>0.421366</td>\n",
       "      <td>0.138350</td>\n",
       "      <td>-0.029680</td>\n",
       "      <td>0.169971</td>\n",
       "      <td>0.236802</td>\n",
       "      <td>-0.309774</td>\n",
       "      <td>-0.159697</td>\n",
       "    </tr>\n",
       "    <tr>\n",
       "      <th>2</th>\n",
       "      <td>0.109193</td>\n",
       "      <td>-0.380305</td>\n",
       "      <td>0.344443</td>\n",
       "      <td>0.265864</td>\n",
       "      <td>0.138412</td>\n",
       "      <td>0.033202</td>\n",
       "      <td>0.341594</td>\n",
       "      <td>0.236907</td>\n",
       "      <td>-0.309912</td>\n",
       "      <td>-0.159768</td>\n",
       "    </tr>\n",
       "    <tr>\n",
       "      <th>3</th>\n",
       "      <td>0.141859</td>\n",
       "      <td>-0.338638</td>\n",
       "      <td>0.307008</td>\n",
       "      <td>0.295131</td>\n",
       "      <td>0.133526</td>\n",
       "      <td>-0.062353</td>\n",
       "      <td>0.246789</td>\n",
       "      <td>-0.249082</td>\n",
       "      <td>0.285956</td>\n",
       "      <td>-0.036067</td>\n",
       "    </tr>\n",
       "    <tr>\n",
       "      <th>4</th>\n",
       "      <td>-0.155772</td>\n",
       "      <td>0.314049</td>\n",
       "      <td>0.300503</td>\n",
       "      <td>-0.021661</td>\n",
       "      <td>0.132554</td>\n",
       "      <td>0.005026</td>\n",
       "      <td>0.080706</td>\n",
       "      <td>0.226881</td>\n",
       "      <td>-0.093561</td>\n",
       "      <td>0.159530</td>\n",
       "    </tr>\n",
       "  </tbody>\n",
       "</table>\n",
       "</div>"
      ],
      "text/plain": [
       "        ram  battery_power  px_height  px_width   three_g  mobile_wt     m_dep    four_g  clock_speed        pc\n",
       "0  0.080934      -0.186496  -0.291119 -0.236950 -0.369204   0.278784  0.070404 -0.215706     0.171657 -0.269796\n",
       "1  0.115527      -0.122405   0.144812  0.421366  0.138350  -0.029680  0.169971  0.236802    -0.309774 -0.159697\n",
       "2  0.109193      -0.380305   0.344443  0.265864  0.138412   0.033202  0.341594  0.236907    -0.309912 -0.159768\n",
       "3  0.141859      -0.338638   0.307008  0.295131  0.133526  -0.062353  0.246789 -0.249082     0.285956 -0.036067\n",
       "4 -0.155772       0.314049   0.300503 -0.021661  0.132554   0.005026  0.080706  0.226881    -0.093561  0.159530"
      ]
     },
     "execution_count": 142,
     "metadata": {},
     "output_type": "execute_result"
    }
   ],
   "source": [
    "x_top_ten = x_sorted.iloc[:,:10]\n",
    "x_top_ten.head()"
   ]
  },
  {
   "cell_type": "code",
   "execution_count": 143,
   "metadata": {},
   "outputs": [
    {
     "data": {
      "text/plain": [
       "0    1\n",
       "1    2\n",
       "2    2\n",
       "3    2\n",
       "4    1\n",
       "Name: price_range, dtype: int64"
      ]
     },
     "execution_count": 143,
     "metadata": {},
     "output_type": "execute_result"
    }
   ],
   "source": [
    "y.head()"
   ]
  },
  {
   "cell_type": "code",
   "execution_count": 144,
   "metadata": {},
   "outputs": [
    {
     "data": {
      "text/plain": [
       "[1, 2, 3, 0]"
      ]
     },
     "execution_count": 144,
     "metadata": {},
     "output_type": "execute_result"
    }
   ],
   "source": [
    "y.unique().tolist()"
   ]
  },
  {
   "cell_type": "markdown",
   "metadata": {},
   "source": [
    "### 5. Splitting the data to train and test"
   ]
  },
  {
   "cell_type": "code",
   "execution_count": 146,
   "metadata": {},
   "outputs": [],
   "source": [
    "from sklearn.model_selection import train_test_split"
   ]
  },
  {
   "cell_type": "code",
   "execution_count": 147,
   "metadata": {},
   "outputs": [],
   "source": [
    "x_train, x_test, y_train, y_test = train_test_split(x_top_ten, y , test_size = 0.3, stratify = y)"
   ]
  },
  {
   "cell_type": "markdown",
   "metadata": {},
   "source": [
    "### 6. Fitting the Decision Tree Classifier"
   ]
  },
  {
   "cell_type": "code",
   "execution_count": 148,
   "metadata": {},
   "outputs": [],
   "source": [
    "from sklearn.tree import DecisionTreeClassifier"
   ]
  },
  {
   "cell_type": "code",
   "execution_count": 149,
   "metadata": {},
   "outputs": [
    {
     "data": {
      "text/plain": [
       "DecisionTreeClassifier(class_weight=None, criterion='gini', max_depth=4,\n",
       "            max_features=None, max_leaf_nodes=None,\n",
       "            min_impurity_decrease=0.0, min_impurity_split=None,\n",
       "            min_samples_leaf=1, min_samples_split=2,\n",
       "            min_weight_fraction_leaf=0.0, presort=False, random_state=None,\n",
       "            splitter='best')"
      ]
     },
     "execution_count": 149,
     "metadata": {},
     "output_type": "execute_result"
    }
   ],
   "source": [
    "ctree = DecisionTreeClassifier(max_depth= 4)\n",
    "ctree"
   ]
  },
  {
   "cell_type": "code",
   "execution_count": 150,
   "metadata": {},
   "outputs": [
    {
     "data": {
      "text/plain": [
       "DecisionTreeClassifier(class_weight=None, criterion='gini', max_depth=4,\n",
       "            max_features=None, max_leaf_nodes=None,\n",
       "            min_impurity_decrease=0.0, min_impurity_split=None,\n",
       "            min_samples_leaf=1, min_samples_split=2,\n",
       "            min_weight_fraction_leaf=0.0, presort=False, random_state=None,\n",
       "            splitter='best')"
      ]
     },
     "execution_count": 150,
     "metadata": {},
     "output_type": "execute_result"
    }
   ],
   "source": [
    "ctree.fit(x_train, y_train)"
   ]
  },
  {
   "cell_type": "code",
   "execution_count": 151,
   "metadata": {},
   "outputs": [],
   "source": [
    "y_pred  =  ctree.predict(x_test)"
   ]
  },
  {
   "cell_type": "code",
   "execution_count": 152,
   "metadata": {},
   "outputs": [],
   "source": [
    "# Import the libraries required for calculating the metrics"
   ]
  },
  {
   "cell_type": "code",
   "execution_count": 153,
   "metadata": {},
   "outputs": [],
   "source": [
    "from sklearn.metrics import confusion_matrix, accuracy_score, classification_report"
   ]
  },
  {
   "cell_type": "code",
   "execution_count": 154,
   "metadata": {},
   "outputs": [
    {
     "name": "stdout",
     "output_type": "stream",
     "text": [
      "The accuracy score is :  0.7833333333333333\n"
     ]
    }
   ],
   "source": [
    "print(\"The accuracy score is : \", accuracy_score ( y_test, y_pred))"
   ]
  },
  {
   "cell_type": "code",
   "execution_count": 155,
   "metadata": {},
   "outputs": [
    {
     "name": "stdout",
     "output_type": "stream",
     "text": [
      "The Confusion Matrix is : \n",
      "\n",
      " [[141   9   0   0]\n",
      " [ 35  88  27   0]\n",
      " [  0  23 112  15]\n",
      " [  0   0  21 129]]\n"
     ]
    }
   ],
   "source": [
    "print(\"The Confusion Matrix is : \\n\\n\", confusion_matrix ( y_test, y_pred))"
   ]
  },
  {
   "cell_type": "code",
   "execution_count": 156,
   "metadata": {},
   "outputs": [
    {
     "name": "stdout",
     "output_type": "stream",
     "text": [
      "The Classification Report is : \n",
      "\n",
      "               precision    recall  f1-score   support\n",
      "\n",
      "           0       0.80      0.94      0.87       150\n",
      "           1       0.73      0.59      0.65       150\n",
      "           2       0.70      0.75      0.72       150\n",
      "           3       0.90      0.86      0.88       150\n",
      "\n",
      "   micro avg       0.78      0.78      0.78       600\n",
      "   macro avg       0.78      0.78      0.78       600\n",
      "weighted avg       0.78      0.78      0.78       600\n",
      "\n"
     ]
    }
   ],
   "source": [
    "print(\"The Classification Report is : \\n\\n\", classification_report ( y_test, y_pred))"
   ]
  },
  {
   "cell_type": "markdown",
   "metadata": {},
   "source": [
    "### 7. Decision Tree with GridSearchCV"
   ]
  },
  {
   "cell_type": "code",
   "execution_count": 157,
   "metadata": {},
   "outputs": [],
   "source": [
    "from sklearn.model_selection import GridSearchCV"
   ]
  },
  {
   "cell_type": "code",
   "execution_count": 158,
   "metadata": {},
   "outputs": [],
   "source": [
    "param_grid = { \"criterion\"      : ['gini', 'entropy'],    \n",
    "               \"max_features\"   : [3, 4, 5,6,7,9,10 ], \n",
    "               \"max_depth\"      : [ 5, 6, 7,8,9,10],\n",
    "               \"splitter\"       : ['best', 'random'],\n",
    "               \"min_samples_leaf\"  : [ 2,3,4]\n",
    "            }"
   ]
  },
  {
   "cell_type": "code",
   "execution_count": 159,
   "metadata": {},
   "outputs": [],
   "source": [
    "optimized_tree = GridSearchCV(ctree, param_grid, scoring = 'accuracy', cv = 7) "
   ]
  },
  {
   "cell_type": "code",
   "execution_count": 160,
   "metadata": {},
   "outputs": [
    {
     "data": {
      "text/plain": [
       "DecisionTreeClassifier(class_weight=None, criterion='entropy', max_depth=7,\n",
       "            max_features=9, max_leaf_nodes=None, min_impurity_decrease=0.0,\n",
       "            min_impurity_split=None, min_samples_leaf=3,\n",
       "            min_samples_split=2, min_weight_fraction_leaf=0.0,\n",
       "            presort=False, random_state=None, splitter='best')"
      ]
     },
     "execution_count": 160,
     "metadata": {},
     "output_type": "execute_result"
    }
   ],
   "source": [
    "optimized_tree.fit(x_train, y_train)\n",
    "ctree_final = optimized_tree.best_estimator_\n",
    "ctree_final"
   ]
  },
  {
   "cell_type": "code",
   "execution_count": 161,
   "metadata": {},
   "outputs": [
    {
     "data": {
      "text/plain": [
       "0.8521428571428571"
      ]
     },
     "execution_count": 161,
     "metadata": {},
     "output_type": "execute_result"
    }
   ],
   "source": [
    "optimized_tree.best_score_"
   ]
  },
  {
   "cell_type": "code",
   "execution_count": 162,
   "metadata": {},
   "outputs": [
    {
     "name": "stdout",
     "output_type": "stream",
     "text": [
      "The accuracy score with best estimator is :  0.8466666666666667\n"
     ]
    }
   ],
   "source": [
    "y_pred_cv = ctree_final.predict(x_test)\n",
    "print(\"The accuracy score with best estimator is : \", accuracy_score(y_pred_cv, y_test))"
   ]
  },
  {
   "cell_type": "markdown",
   "metadata": {},
   "source": [
    "### 8. Modelling with SVM"
   ]
  },
  {
   "cell_type": "code",
   "execution_count": 163,
   "metadata": {},
   "outputs": [],
   "source": [
    "from sklearn.svm import SVC"
   ]
  },
  {
   "cell_type": "code",
   "execution_count": 164,
   "metadata": {},
   "outputs": [
    {
     "data": {
      "text/plain": [
       "SVC(C=1.0, cache_size=200, class_weight=None, coef0=0.0,\n",
       "  decision_function_shape='ovr', degree=3, gamma='scale', kernel='rbf',\n",
       "  max_iter=-1, probability=False, random_state=None, shrinking=True,\n",
       "  tol=0.001, verbose=False)"
      ]
     },
     "execution_count": 164,
     "metadata": {},
     "output_type": "execute_result"
    }
   ],
   "source": [
    "sv = SVC(gamma='scale')\n",
    "sv"
   ]
  },
  {
   "cell_type": "code",
   "execution_count": 165,
   "metadata": {},
   "outputs": [],
   "source": [
    "sv.fit(x_train, y_train)\n",
    "y_pred = sv.predict(x_test)"
   ]
  },
  {
   "cell_type": "code",
   "execution_count": 166,
   "metadata": {},
   "outputs": [
    {
     "name": "stdout",
     "output_type": "stream",
     "text": [
      "The accuracy score is :  0.89\n"
     ]
    }
   ],
   "source": [
    "print(\"The accuracy score is : \", accuracy_score ( y_test, y_pred))"
   ]
  },
  {
   "cell_type": "markdown",
   "metadata": {},
   "source": [
    "### 9. SVC with Grid Search CV"
   ]
  },
  {
   "cell_type": "code",
   "execution_count": 167,
   "metadata": {},
   "outputs": [],
   "source": [
    "Cs = [0.001, 0.01, 0.1, 1, 10]\n",
    "gammas = [0.001, 0.01, 0.1, 1]\n",
    "param_grid = { 'C': Cs ,  'gamma' : gammas }\n",
    "grid_search_SVC = GridSearchCV( sv , param_grid, cv = 7)"
   ]
  },
  {
   "cell_type": "code",
   "execution_count": 168,
   "metadata": {},
   "outputs": [
    {
     "data": {
      "text/plain": [
       "SVC(C=10, cache_size=200, class_weight=None, coef0=0.0,\n",
       "  decision_function_shape='ovr', degree=3, gamma=0.1, kernel='rbf',\n",
       "  max_iter=-1, probability=False, random_state=None, shrinking=True,\n",
       "  tol=0.001, verbose=False)"
      ]
     },
     "execution_count": 168,
     "metadata": {},
     "output_type": "execute_result"
    }
   ],
   "source": [
    "grid_search_SVC.fit(x_train, y_train)\n",
    "ctree_final = grid_search_SVC.best_estimator_\n",
    "ctree_final"
   ]
  },
  {
   "cell_type": "code",
   "execution_count": 169,
   "metadata": {},
   "outputs": [
    {
     "data": {
      "text/plain": [
       "0.9428571428571428"
      ]
     },
     "execution_count": 169,
     "metadata": {},
     "output_type": "execute_result"
    }
   ],
   "source": [
    "grid_search_SVC.best_score_"
   ]
  },
  {
   "cell_type": "code",
   "execution_count": 170,
   "metadata": {},
   "outputs": [
    {
     "name": "stdout",
     "output_type": "stream",
     "text": [
      "The accuracy score is :  0.9366666666666666\n"
     ]
    }
   ],
   "source": [
    "y_pred_sv = ctree_final.predict(x_test)\n",
    "print(\"The accuracy score is : \", accuracy_score ( y_test, y_pred_sv))"
   ]
  },
  {
   "cell_type": "code",
   "execution_count": null,
   "metadata": {},
   "outputs": [],
   "source": []
  }
 ],
 "metadata": {
  "kernelspec": {
   "display_name": "Python 3",
   "language": "python",
   "name": "python3"
  },
  "language_info": {
   "codemirror_mode": {
    "name": "ipython",
    "version": 3
   },
   "file_extension": ".py",
   "mimetype": "text/x-python",
   "name": "python",
   "nbconvert_exporter": "python",
   "pygments_lexer": "ipython3",
   "version": "3.7.3"
  }
 },
 "nbformat": 4,
 "nbformat_minor": 2
}
